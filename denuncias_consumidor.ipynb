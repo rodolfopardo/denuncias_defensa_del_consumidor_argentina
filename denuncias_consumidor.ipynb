{
 "cells": [
  {
   "cell_type": "markdown",
   "metadata": {},
   "source": [
    "# Proyecto de Datos: Denuncias en Defensa del Consumidor\n",
    "## Autor: Rodolfo Pardo\n",
    "### Fuente de datos: Datos.gob.ar\n",
    "#### Invitado: Mario Vadillo, Diputado provincial de Protectora Fuerza Política"
   ]
  },
  {
   "cell_type": "markdown",
   "metadata": {},
   "source": [
    "Hipótesis planteadas por Mario Vadillo y a estudiarse en el estudio de datos: \n",
    "\n",
    "1. El rubro de la telefonía y/o telecomunicaciones es el más denunciado.\n",
    "2. Movistar es la primer razón social denunciada. \n",
    "3. CABA es la localización con mayor cantidad de denuncias realizadas."
   ]
  },
  {
   "cell_type": "code",
   "execution_count": 1,
   "metadata": {},
   "outputs": [],
   "source": [
    "#Importando librerias \n",
    "import pandas as pd\n",
    "import numpy as np\n",
    "import seaborn as sns \n",
    "import matplotlib.pyplot as plt"
   ]
  },
  {
   "cell_type": "code",
   "execution_count": 2,
   "metadata": {},
   "outputs": [
    {
     "name": "stderr",
     "output_type": "stream",
     "text": [
      "/anaconda3/lib/python3.6/site-packages/IPython/core/interactiveshell.py:3057: DtypeWarning: Columns (17) have mixed types. Specify dtype option on import or set low_memory=False.\n",
      "  interactivity=interactivity, compiler=compiler, result=result)\n"
     ]
    }
   ],
   "source": [
    "reclamos = pd.read_csv('/Users/rodolfopardo/Downloads/reclamos-ingresados.csv', sep = \";\")"
   ]
  },
  {
   "cell_type": "code",
   "execution_count": 3,
   "metadata": {},
   "outputs": [
    {
     "data": {
      "text/html": [
       "<div>\n",
       "<style scoped>\n",
       "    .dataframe tbody tr th:only-of-type {\n",
       "        vertical-align: middle;\n",
       "    }\n",
       "\n",
       "    .dataframe tbody tr th {\n",
       "        vertical-align: top;\n",
       "    }\n",
       "\n",
       "    .dataframe thead th {\n",
       "        text-align: right;\n",
       "    }\n",
       "</style>\n",
       "<table border=\"1\" class=\"dataframe\">\n",
       "  <thead>\n",
       "    <tr style=\"text-align: right;\">\n",
       "      <th></th>\n",
       "      <th>fecha</th>\n",
       "      <th>id_reclamo</th>\n",
       "      <th>razon_social</th>\n",
       "      <th>ingreso_por</th>\n",
       "      <th>derivado_a</th>\n",
       "      <th>categoria</th>\n",
       "      <th>rubro</th>\n",
       "      <th>subrubro</th>\n",
       "      <th>modalidad</th>\n",
       "      <th>motivo</th>\n",
       "      <th>especificacion_motivo</th>\n",
       "      <th>estado</th>\n",
       "      <th>motivo_rechazo</th>\n",
       "      <th>region_reclamante</th>\n",
       "      <th>id_provincia</th>\n",
       "      <th>provincia_reclamante</th>\n",
       "      <th>genero_reclamante</th>\n",
       "      <th>edad_reclamante</th>\n",
       "    </tr>\n",
       "  </thead>\n",
       "  <tbody>\n",
       "    <tr>\n",
       "      <th>0</th>\n",
       "      <td>1/3/2018</td>\n",
       "      <td>143587</td>\n",
       "      <td>Soluciones Empresariales Arg.</td>\n",
       "      <td>Jurisdicción Jujuy</td>\n",
       "      <td>Jujuy</td>\n",
       "      <td>Servicios</td>\n",
       "      <td>Servicios financieros y seguros</td>\n",
       "      <td>Compañías financieras (mutuos)</td>\n",
       "      <td>Presencial</td>\n",
       "      <td>Incumplimiento total de la prestación del serv...</td>\n",
       "      <td>-</td>\n",
       "      <td>-</td>\n",
       "      <td>NaN</td>\n",
       "      <td>Noroeste</td>\n",
       "      <td>38</td>\n",
       "      <td>Jujuy</td>\n",
       "      <td>-</td>\n",
       "      <td>NaN</td>\n",
       "    </tr>\n",
       "    <tr>\n",
       "      <th>1</th>\n",
       "      <td>1/3/2018</td>\n",
       "      <td>143588</td>\n",
       "      <td>Despegar.com.ar SA</td>\n",
       "      <td>Jurisdicción Jujuy</td>\n",
       "      <td>Jujuy</td>\n",
       "      <td>Servicios</td>\n",
       "      <td>Servicios turísticos</td>\n",
       "      <td>Paquetes turísticos</td>\n",
       "      <td>Presencial</td>\n",
       "      <td>Cumplimiento parcial o defectuoso de la presta...</td>\n",
       "      <td>Cancelación o supresión de viaje</td>\n",
       "      <td>-</td>\n",
       "      <td>NaN</td>\n",
       "      <td>Noroeste</td>\n",
       "      <td>38</td>\n",
       "      <td>Jujuy</td>\n",
       "      <td>-</td>\n",
       "      <td>NaN</td>\n",
       "    </tr>\n",
       "    <tr>\n",
       "      <th>2</th>\n",
       "      <td>1/3/2018</td>\n",
       "      <td>143589</td>\n",
       "      <td>Perez Roberto Jesus</td>\n",
       "      <td>Jurisdicción Jujuy</td>\n",
       "      <td>Jujuy</td>\n",
       "      <td>Productos</td>\n",
       "      <td>Construcción y equipamiento del hogar</td>\n",
       "      <td>Herramientas</td>\n",
       "      <td>Presencial</td>\n",
       "      <td>Entrega defectuosa</td>\n",
       "      <td>Producto no funciona</td>\n",
       "      <td>-</td>\n",
       "      <td>NaN</td>\n",
       "      <td>Noroeste</td>\n",
       "      <td>38</td>\n",
       "      <td>Jujuy</td>\n",
       "      <td>-</td>\n",
       "      <td>NaN</td>\n",
       "    </tr>\n",
       "    <tr>\n",
       "      <th>3</th>\n",
       "      <td>1/3/2018</td>\n",
       "      <td>143590</td>\n",
       "      <td>Horacio Pussetto SA</td>\n",
       "      <td>Jurisdicción Jujuy</td>\n",
       "      <td>Jujuy</td>\n",
       "      <td>Productos</td>\n",
       "      <td>Rodados, automotores y embarcaciones</td>\n",
       "      <td>Automóviles</td>\n",
       "      <td>Presencial</td>\n",
       "      <td>Incumplimiento de oferta, promociones y/o boni...</td>\n",
       "      <td>-</td>\n",
       "      <td>-</td>\n",
       "      <td>NaN</td>\n",
       "      <td>Noroeste</td>\n",
       "      <td>38</td>\n",
       "      <td>Jujuy</td>\n",
       "      <td>-</td>\n",
       "      <td>NaN</td>\n",
       "    </tr>\n",
       "    <tr>\n",
       "      <th>4</th>\n",
       "      <td>1/3/2018</td>\n",
       "      <td>143591</td>\n",
       "      <td>Directv Argentina SA</td>\n",
       "      <td>Jurisdicción Jujuy</td>\n",
       "      <td>Jujuy</td>\n",
       "      <td>Servicios</td>\n",
       "      <td>Servicios de comunicaciones</td>\n",
       "      <td>Televisión por cable/satelital</td>\n",
       "      <td>Presencial</td>\n",
       "      <td>Falta de procesamiento de baja del servicio</td>\n",
       "      <td>-</td>\n",
       "      <td>-</td>\n",
       "      <td>NaN</td>\n",
       "      <td>Noroeste</td>\n",
       "      <td>38</td>\n",
       "      <td>Jujuy</td>\n",
       "      <td>-</td>\n",
       "      <td>NaN</td>\n",
       "    </tr>\n",
       "  </tbody>\n",
       "</table>\n",
       "</div>"
      ],
      "text/plain": [
       "      fecha  id_reclamo                   razon_social         ingreso_por  \\\n",
       "0  1/3/2018      143587  Soluciones Empresariales Arg.  Jurisdicción Jujuy   \n",
       "1  1/3/2018      143588             Despegar.com.ar SA  Jurisdicción Jujuy   \n",
       "2  1/3/2018      143589            Perez Roberto Jesus  Jurisdicción Jujuy   \n",
       "3  1/3/2018      143590            Horacio Pussetto SA  Jurisdicción Jujuy   \n",
       "4  1/3/2018      143591           Directv Argentina SA  Jurisdicción Jujuy   \n",
       "\n",
       "  derivado_a  categoria                                  rubro  \\\n",
       "0      Jujuy  Servicios        Servicios financieros y seguros   \n",
       "1      Jujuy  Servicios                   Servicios turísticos   \n",
       "2      Jujuy  Productos  Construcción y equipamiento del hogar   \n",
       "3      Jujuy  Productos   Rodados, automotores y embarcaciones   \n",
       "4      Jujuy  Servicios            Servicios de comunicaciones   \n",
       "\n",
       "                         subrubro   modalidad  \\\n",
       "0  Compañías financieras (mutuos)  Presencial   \n",
       "1             Paquetes turísticos  Presencial   \n",
       "2                    Herramientas  Presencial   \n",
       "3                     Automóviles  Presencial   \n",
       "4  Televisión por cable/satelital  Presencial   \n",
       "\n",
       "                                              motivo  \\\n",
       "0  Incumplimiento total de la prestación del serv...   \n",
       "1  Cumplimiento parcial o defectuoso de la presta...   \n",
       "2                                 Entrega defectuosa   \n",
       "3  Incumplimiento de oferta, promociones y/o boni...   \n",
       "4        Falta de procesamiento de baja del servicio   \n",
       "\n",
       "              especificacion_motivo estado motivo_rechazo region_reclamante  \\\n",
       "0                                 -      -            NaN          Noroeste   \n",
       "1  Cancelación o supresión de viaje      -            NaN          Noroeste   \n",
       "2              Producto no funciona      -            NaN          Noroeste   \n",
       "3                                 -      -            NaN          Noroeste   \n",
       "4                                 -      -            NaN          Noroeste   \n",
       "\n",
       "   id_provincia provincia_reclamante genero_reclamante edad_reclamante  \n",
       "0            38                Jujuy                 -             NaN  \n",
       "1            38                Jujuy                 -             NaN  \n",
       "2            38                Jujuy                 -             NaN  \n",
       "3            38                Jujuy                 -             NaN  \n",
       "4            38                Jujuy                 -             NaN  "
      ]
     },
     "execution_count": 3,
     "metadata": {},
     "output_type": "execute_result"
    }
   ],
   "source": [
    "#Primeros cinco valores del dataset\n",
    "\n",
    "reclamos.head()"
   ]
  },
  {
   "cell_type": "code",
   "execution_count": 4,
   "metadata": {},
   "outputs": [
    {
     "data": {
      "text/html": [
       "<div>\n",
       "<style scoped>\n",
       "    .dataframe tbody tr th:only-of-type {\n",
       "        vertical-align: middle;\n",
       "    }\n",
       "\n",
       "    .dataframe tbody tr th {\n",
       "        vertical-align: top;\n",
       "    }\n",
       "\n",
       "    .dataframe thead th {\n",
       "        text-align: right;\n",
       "    }\n",
       "</style>\n",
       "<table border=\"1\" class=\"dataframe\">\n",
       "  <thead>\n",
       "    <tr style=\"text-align: right;\">\n",
       "      <th></th>\n",
       "      <th>fecha</th>\n",
       "      <th>id_reclamo</th>\n",
       "      <th>razon_social</th>\n",
       "      <th>ingreso_por</th>\n",
       "      <th>derivado_a</th>\n",
       "      <th>categoria</th>\n",
       "      <th>rubro</th>\n",
       "      <th>subrubro</th>\n",
       "      <th>modalidad</th>\n",
       "      <th>motivo</th>\n",
       "      <th>especificacion_motivo</th>\n",
       "      <th>estado</th>\n",
       "      <th>motivo_rechazo</th>\n",
       "      <th>region_reclamante</th>\n",
       "      <th>id_provincia</th>\n",
       "      <th>provincia_reclamante</th>\n",
       "      <th>genero_reclamante</th>\n",
       "      <th>edad_reclamante</th>\n",
       "    </tr>\n",
       "  </thead>\n",
       "  <tbody>\n",
       "    <tr>\n",
       "      <th>182671</th>\n",
       "      <td>1/6/2019</td>\n",
       "      <td>326258</td>\n",
       "      <td>Imp Assist SA</td>\n",
       "      <td>Consumo Protegido</td>\n",
       "      <td>Consumo Protegido</td>\n",
       "      <td>Servicios</td>\n",
       "      <td>Servicios financieros y seguros</td>\n",
       "      <td>Tarjetas de crédito</td>\n",
       "      <td>A distancia</td>\n",
       "      <td>Cumplimiento parcial o defectuoso de la presta...</td>\n",
       "      <td>Débito o imposición de seguros no solicitados,...</td>\n",
       "      <td>Desestimado</td>\n",
       "      <td>Rechazo - Jurisdiccion</td>\n",
       "      <td>Pampeana</td>\n",
       "      <td>6</td>\n",
       "      <td>Buenos Aires</td>\n",
       "      <td>Masculino</td>\n",
       "      <td>37</td>\n",
       "    </tr>\n",
       "    <tr>\n",
       "      <th>182672</th>\n",
       "      <td>1/6/2019</td>\n",
       "      <td>326259</td>\n",
       "      <td>International Home SA</td>\n",
       "      <td>Consumo Protegido</td>\n",
       "      <td>Consumo Protegido</td>\n",
       "      <td>Productos</td>\n",
       "      <td>Muebles</td>\n",
       "      <td>Muebles de living</td>\n",
       "      <td>Presencial</td>\n",
       "      <td>Garantía de bienes - Art 11 Ley 24.240</td>\n",
       "      <td>Falta de cumplimento garantía posventa</td>\n",
       "      <td>-</td>\n",
       "      <td>NaN</td>\n",
       "      <td>Pampeana</td>\n",
       "      <td>2</td>\n",
       "      <td>Ciudad Autónoma de Buenos Aires</td>\n",
       "      <td>Masculino</td>\n",
       "      <td>50</td>\n",
       "    </tr>\n",
       "    <tr>\n",
       "      <th>182673</th>\n",
       "      <td>1/6/2019</td>\n",
       "      <td>326260</td>\n",
       "      <td>Mercadolibre SRL</td>\n",
       "      <td>Consumo Protegido</td>\n",
       "      <td>Consumo Protegido</td>\n",
       "      <td>Servicios</td>\n",
       "      <td>Servicios financieros y seguros</td>\n",
       "      <td>Tarjetas de débito</td>\n",
       "      <td>A distancia</td>\n",
       "      <td>Problemas de fraude o estafa</td>\n",
       "      <td>-</td>\n",
       "      <td>-</td>\n",
       "      <td>NaN</td>\n",
       "      <td>Pampeana</td>\n",
       "      <td>2</td>\n",
       "      <td>Ciudad Autónoma de Buenos Aires</td>\n",
       "      <td>Masculino</td>\n",
       "      <td>33</td>\n",
       "    </tr>\n",
       "    <tr>\n",
       "      <th>182674</th>\n",
       "      <td>1/6/2019</td>\n",
       "      <td>326261</td>\n",
       "      <td>Tarjeta Naranja SA</td>\n",
       "      <td>Consumo Protegido</td>\n",
       "      <td>Consumo Protegido</td>\n",
       "      <td>Servicios</td>\n",
       "      <td>Servicios financieros y seguros</td>\n",
       "      <td>Tarjetas de crédito</td>\n",
       "      <td>A distancia</td>\n",
       "      <td>Incumplimiento total de la prestación del serv...</td>\n",
       "      <td>-</td>\n",
       "      <td>-</td>\n",
       "      <td>NaN</td>\n",
       "      <td>Pampeana</td>\n",
       "      <td>2</td>\n",
       "      <td>Ciudad Autónoma de Buenos Aires</td>\n",
       "      <td>Femenino</td>\n",
       "      <td>31</td>\n",
       "    </tr>\n",
       "    <tr>\n",
       "      <th>182675</th>\n",
       "      <td>1/6/2019</td>\n",
       "      <td>326262</td>\n",
       "      <td>Latam Airlines Group SA</td>\n",
       "      <td>Consumo Protegido</td>\n",
       "      <td>Consumo Protegido</td>\n",
       "      <td>Servicios</td>\n",
       "      <td>Servicios de transporte aéreo</td>\n",
       "      <td>Transporte aéreo de pasajeros</td>\n",
       "      <td>A distancia</td>\n",
       "      <td>Cancelación o supresión de vuelos</td>\n",
       "      <td>-</td>\n",
       "      <td>-</td>\n",
       "      <td>NaN</td>\n",
       "      <td>Pampeana</td>\n",
       "      <td>2</td>\n",
       "      <td>Ciudad Autónoma de Buenos Aires</td>\n",
       "      <td>Masculino</td>\n",
       "      <td>33</td>\n",
       "    </tr>\n",
       "  </tbody>\n",
       "</table>\n",
       "</div>"
      ],
      "text/plain": [
       "           fecha  id_reclamo             razon_social        ingreso_por  \\\n",
       "182671  1/6/2019      326258            Imp Assist SA  Consumo Protegido   \n",
       "182672  1/6/2019      326259    International Home SA  Consumo Protegido   \n",
       "182673  1/6/2019      326260         Mercadolibre SRL  Consumo Protegido   \n",
       "182674  1/6/2019      326261       Tarjeta Naranja SA  Consumo Protegido   \n",
       "182675  1/6/2019      326262  Latam Airlines Group SA  Consumo Protegido   \n",
       "\n",
       "               derivado_a  categoria                            rubro  \\\n",
       "182671  Consumo Protegido  Servicios  Servicios financieros y seguros   \n",
       "182672  Consumo Protegido  Productos                          Muebles   \n",
       "182673  Consumo Protegido  Servicios  Servicios financieros y seguros   \n",
       "182674  Consumo Protegido  Servicios  Servicios financieros y seguros   \n",
       "182675  Consumo Protegido  Servicios    Servicios de transporte aéreo   \n",
       "\n",
       "                             subrubro    modalidad  \\\n",
       "182671            Tarjetas de crédito  A distancia   \n",
       "182672              Muebles de living   Presencial   \n",
       "182673             Tarjetas de débito  A distancia   \n",
       "182674            Tarjetas de crédito  A distancia   \n",
       "182675  Transporte aéreo de pasajeros  A distancia   \n",
       "\n",
       "                                                   motivo  \\\n",
       "182671  Cumplimiento parcial o defectuoso de la presta...   \n",
       "182672             Garantía de bienes - Art 11 Ley 24.240   \n",
       "182673                      Problemas de fraude o estafa    \n",
       "182674  Incumplimiento total de la prestación del serv...   \n",
       "182675                  Cancelación o supresión de vuelos   \n",
       "\n",
       "                                    especificacion_motivo       estado  \\\n",
       "182671  Débito o imposición de seguros no solicitados,...  Desestimado   \n",
       "182672             Falta de cumplimento garantía posventa            -   \n",
       "182673                                                  -            -   \n",
       "182674                                                  -            -   \n",
       "182675                                                  -            -   \n",
       "\n",
       "                motivo_rechazo region_reclamante  id_provincia  \\\n",
       "182671  Rechazo - Jurisdiccion          Pampeana             6   \n",
       "182672                     NaN          Pampeana             2   \n",
       "182673                     NaN          Pampeana             2   \n",
       "182674                     NaN          Pampeana             2   \n",
       "182675                     NaN          Pampeana             2   \n",
       "\n",
       "                   provincia_reclamante genero_reclamante edad_reclamante  \n",
       "182671                     Buenos Aires         Masculino              37  \n",
       "182672  Ciudad Autónoma de Buenos Aires         Masculino              50  \n",
       "182673  Ciudad Autónoma de Buenos Aires         Masculino              33  \n",
       "182674  Ciudad Autónoma de Buenos Aires          Femenino              31  \n",
       "182675  Ciudad Autónoma de Buenos Aires         Masculino              33  "
      ]
     },
     "execution_count": 4,
     "metadata": {},
     "output_type": "execute_result"
    }
   ],
   "source": [
    "#Ultimos \n",
    "\n",
    "reclamos.tail()"
   ]
  },
  {
   "cell_type": "code",
   "execution_count": 5,
   "metadata": {},
   "outputs": [
    {
     "data": {
      "text/plain": [
       "Index(['fecha', 'id_reclamo', 'razon_social', 'ingreso_por', 'derivado_a',\n",
       "       'categoria', 'rubro', 'subrubro', 'modalidad', 'motivo',\n",
       "       'especificacion_motivo', 'estado', 'motivo_rechazo',\n",
       "       'region_reclamante', 'id_provincia', 'provincia_reclamante',\n",
       "       'genero_reclamante', 'edad_reclamante'],\n",
       "      dtype='object')"
      ]
     },
     "execution_count": 5,
     "metadata": {},
     "output_type": "execute_result"
    }
   ],
   "source": [
    "#Columnas\n",
    "\n",
    "reclamos.columns"
   ]
  },
  {
   "cell_type": "code",
   "execution_count": 6,
   "metadata": {},
   "outputs": [
    {
     "data": {
      "text/plain": [
       "fecha                    object\n",
       "id_reclamo                int64\n",
       "razon_social             object\n",
       "ingreso_por              object\n",
       "derivado_a               object\n",
       "categoria                object\n",
       "rubro                    object\n",
       "subrubro                 object\n",
       "modalidad                object\n",
       "motivo                   object\n",
       "especificacion_motivo    object\n",
       "estado                   object\n",
       "motivo_rechazo           object\n",
       "region_reclamante        object\n",
       "id_provincia              int64\n",
       "provincia_reclamante     object\n",
       "genero_reclamante        object\n",
       "edad_reclamante          object\n",
       "dtype: object"
      ]
     },
     "execution_count": 6,
     "metadata": {},
     "output_type": "execute_result"
    }
   ],
   "source": [
    "#Tipos de datos en cada columna\n",
    "\n",
    "reclamos.dtypes"
   ]
  },
  {
   "cell_type": "code",
   "execution_count": 7,
   "metadata": {},
   "outputs": [
    {
     "data": {
      "text/plain": [
       "182676"
      ]
     },
     "execution_count": 7,
     "metadata": {},
     "output_type": "execute_result"
    }
   ],
   "source": [
    "#Cantidad de reclamos \n",
    "\n",
    "reclamos.shape[0]"
   ]
  },
  {
   "cell_type": "code",
   "execution_count": 8,
   "metadata": {},
   "outputs": [
    {
     "data": {
      "text/plain": [
       "fecha                         0\n",
       "id_reclamo                    0\n",
       "razon_social                  0\n",
       "ingreso_por                   0\n",
       "derivado_a                    0\n",
       "categoria                     0\n",
       "rubro                         0\n",
       "subrubro                      0\n",
       "modalidad                     0\n",
       "motivo                        0\n",
       "especificacion_motivo         0\n",
       "estado                        0\n",
       "motivo_rechazo           173815\n",
       "region_reclamante             0\n",
       "id_provincia                  0\n",
       "provincia_reclamante          0\n",
       "genero_reclamante             0\n",
       "edad_reclamante           25397\n",
       "dtype: int64"
      ]
     },
     "execution_count": 8,
     "metadata": {},
     "output_type": "execute_result"
    }
   ],
   "source": [
    "#Cantidad de valores nulos\n",
    "\n",
    "reclamos.isnull().sum()"
   ]
  },
  {
   "cell_type": "code",
   "execution_count": 9,
   "metadata": {},
   "outputs": [],
   "source": [
    "#Limpiando valores nulos relacionados a edad\n",
    "\n",
    "reclamos['edad_reclamante'] = reclamos['edad_reclamante'].fillna('')"
   ]
  },
  {
   "cell_type": "code",
   "execution_count": 10,
   "metadata": {},
   "outputs": [],
   "source": [
    "#Limpiando valores nulos relacionados a motivos \n",
    "\n",
    "reclamos['motivo_rechazo'] = reclamos['motivo_rechazo'].fillna('sin motivo')"
   ]
  },
  {
   "cell_type": "code",
   "execution_count": 11,
   "metadata": {},
   "outputs": [],
   "source": [
    "#Limpiando valores de string que no se pueden convertir a valores numericos\n",
    "\n",
    "reclamos['edad_reclamante'] = reclamos['edad_reclamante'].str.replace('-','')\n"
   ]
  },
  {
   "cell_type": "code",
   "execution_count": 12,
   "metadata": {},
   "outputs": [],
   "source": [
    "#Convirtiendo la columna edad_reclamante en numeric. Estaba en formato objeto \n",
    "\n",
    "reclamos['edad_reclamante'] = pd.to_numeric(reclamos['edad_reclamante'])\n"
   ]
  },
  {
   "cell_type": "code",
   "execution_count": 13,
   "metadata": {},
   "outputs": [],
   "source": [
    "#Convirtiendo la columna fecha en datetime. Estaba en objeto\n",
    "\n",
    "reclamos['fecha'] = pd.to_datetime(reclamos['fecha'])"
   ]
  },
  {
   "cell_type": "markdown",
   "metadata": {},
   "source": [
    "#### <font color=red> Ya tenemos nuestra base sin valores nulos y con los tipos de variables correctas"
   ]
  },
  {
   "cell_type": "code",
   "execution_count": 14,
   "metadata": {},
   "outputs": [
    {
     "data": {
      "text/plain": [
       "fecha                    datetime64[ns]\n",
       "id_reclamo                        int64\n",
       "razon_social                     object\n",
       "ingreso_por                      object\n",
       "derivado_a                       object\n",
       "categoria                        object\n",
       "rubro                            object\n",
       "subrubro                         object\n",
       "modalidad                        object\n",
       "motivo                           object\n",
       "especificacion_motivo            object\n",
       "estado                           object\n",
       "motivo_rechazo                   object\n",
       "region_reclamante                object\n",
       "id_provincia                      int64\n",
       "provincia_reclamante             object\n",
       "genero_reclamante                object\n",
       "edad_reclamante                 float64\n",
       "dtype: object"
      ]
     },
     "execution_count": 14,
     "metadata": {},
     "output_type": "execute_result"
    }
   ],
   "source": [
    "#Comprobamos los tipos \n",
    "\n",
    "reclamos.dtypes"
   ]
  },
  {
   "cell_type": "code",
   "execution_count": 15,
   "metadata": {},
   "outputs": [
    {
     "data": {
      "text/plain": [
       "fecha                         0\n",
       "id_reclamo                    0\n",
       "razon_social                  0\n",
       "ingreso_por                   0\n",
       "derivado_a                    0\n",
       "categoria                     0\n",
       "rubro                         0\n",
       "subrubro                      0\n",
       "modalidad                     0\n",
       "motivo                        0\n",
       "especificacion_motivo         0\n",
       "estado                        0\n",
       "motivo_rechazo                0\n",
       "region_reclamante             0\n",
       "id_provincia                  0\n",
       "provincia_reclamante          0\n",
       "genero_reclamante             0\n",
       "edad_reclamante          131619\n",
       "dtype: int64"
      ]
     },
     "execution_count": 15,
     "metadata": {},
     "output_type": "execute_result"
    }
   ],
   "source": [
    "#Comprobamos que ya no existan valores nulos  \n",
    "\n",
    "reclamos.isnull().sum()"
   ]
  },
  {
   "cell_type": "markdown",
   "metadata": {},
   "source": [
    "## Visualizaciones y primeros datos "
   ]
  },
  {
   "cell_type": "markdown",
   "metadata": {},
   "source": [
    "### Regiones y provincias con más y menos reclamos de Argentina"
   ]
  },
  {
   "cell_type": "markdown",
   "metadata": {},
   "source": [
    "##### <font color=green> Las 10 provincias con más reclamos "
   ]
  },
  {
   "cell_type": "code",
   "execution_count": 19,
   "metadata": {},
   "outputs": [
    {
     "data": {
      "text/plain": [
       "provincia_reclamante\n",
       "Buenos Aires                       82254\n",
       "Ciudad Autónoma de Buenos Aires    65835\n",
       "Córdoba                             7296\n",
       "Santa Fe                            4485\n",
       "Mendoza                             3150\n",
       "Entre Ríos                          2474\n",
       "Río Negro                           1922\n",
       "Neuquén                             1873\n",
       "Catamarca                           1576\n",
       "Tucumán                             1505\n",
       "Name: id_reclamo, dtype: int64"
      ]
     },
     "execution_count": 19,
     "metadata": {},
     "output_type": "execute_result"
    }
   ],
   "source": [
    "reclamos.groupby('provincia_reclamante')['id_reclamo'].count().sort_values(ascending = False).head(10)"
   ]
  },
  {
   "cell_type": "markdown",
   "metadata": {},
   "source": [
    "### <font color=red> Se rechaza en parte la hipótesis de Mario Vadillo, Diputado provincial, en que demuestra que la mayor cantidad de denuncias se da CABA, ya que la provincia de Buenos Aires lidera el ranking, seguido de CABA.\n",
    "    \n",
    "   \n",
    "<font color=red> La provincia de Mendoza ocupa el quinto lugar con 3150 denuncias realizadas durante 2018-2019"
   ]
  },
  {
   "cell_type": "markdown",
   "metadata": {},
   "source": [
    "##### <font color=green> Las 10 provincias con menos reclamos"
   ]
  },
  {
   "cell_type": "code",
   "execution_count": 20,
   "metadata": {},
   "outputs": [
    {
     "data": {
      "text/plain": [
       "provincia_reclamante\n",
       "Salta                                                    915\n",
       "La Rioja                                                 873\n",
       "Jujuy                                                    782\n",
       "Santa Cruz                                               726\n",
       "San Luis                                                 723\n",
       "Santiago del Estero                                      616\n",
       "San Juan                                                 583\n",
       "Tierra del Fuego, Antártida e Islas del Atlántico Sur    358\n",
       "La Pampa                                                 356\n",
       "Formosa                                                  254\n",
       "Name: id_reclamo, dtype: int64"
      ]
     },
     "execution_count": 20,
     "metadata": {},
     "output_type": "execute_result"
    }
   ],
   "source": [
    "reclamos.groupby('provincia_reclamante')['id_reclamo'].count().sort_values(ascending = False).tail(10)"
   ]
  },
  {
   "cell_type": "markdown",
   "metadata": {},
   "source": [
    "<font color=blue> Formosa, La Pampa y Tierra del Fuego son las que tienen menor cantidad de denuncias"
   ]
  },
  {
   "cell_type": "markdown",
   "metadata": {},
   "source": [
    "##### <font color=green> La región del país con mayor cantidad de denuncias"
   ]
  },
  {
   "cell_type": "code",
   "execution_count": 22,
   "metadata": {},
   "outputs": [
    {
     "data": {
      "text/plain": [
       "region_reclamante\n",
       "Pampeana     160226\n",
       "Patagonia      5943\n",
       "Noreste        5681\n",
       "Noroeste       5497\n",
       "Cuyo           5329\n",
       "Name: id_reclamo, dtype: int64"
      ]
     },
     "execution_count": 22,
     "metadata": {},
     "output_type": "execute_result"
    }
   ],
   "source": [
    "reclamos.groupby('region_reclamante')['id_reclamo'].count().sort_values(ascending = False)"
   ]
  },
  {
   "cell_type": "markdown",
   "metadata": {},
   "source": [
    "<font color = blue> La región Pampeana lidera el ranking de denuncias.\n",
    "<font color = red> La región de Cuyo es la que menos denuncias tiene."
   ]
  },
  {
   "cell_type": "markdown",
   "metadata": {},
   "source": [
    "##### <font color= green> Los rubros más denunciados en Defensa del Consumidor"
   ]
  },
  {
   "cell_type": "code",
   "execution_count": 24,
   "metadata": {},
   "outputs": [
    {
     "data": {
      "text/plain": [
       "rubro\n",
       "Servicios de comunicaciones                                        44823\n",
       "Servicios financieros y seguros                                    33553\n",
       "Rodados, automotores y embarcaciones                               14299\n",
       "Electrodomésticos y artefactos para el hogar                       12027\n",
       "Servicios de transporte aéreo                                       8073\n",
       "Servicios públicos domiciliarios                                    8050\n",
       "Textil, calzado y marroquinería                                     7805\n",
       "Servicios y eventos de esparcimiento, culturales y/o deportivos     7765\n",
       "Equipos de telefonía                                                5743\n",
       "Servicios de transporte terrestre de pasajeros y cargas             4064\n",
       "Servicios de salud                                                  3788\n",
       "Servicios turísticos                                                3366\n",
       "Alimentos y bebidas                                                 3219\n",
       "Servicio de administración de pagos                                 2930\n",
       "Informática                                                         2867\n",
       "Muebles                                                             2824\n",
       "Construcción y equipamiento del hogar                               1640\n",
       "Colchonerías                                                        1262\n",
       "Deportes y recreación                                               1212\n",
       "Servicios de gestoría y consultoría                                 1195\n",
       "Name: id_reclamo, dtype: int64"
      ]
     },
     "execution_count": 24,
     "metadata": {},
     "output_type": "execute_result"
    }
   ],
   "source": [
    "reclamos.groupby('rubro')['id_reclamo'].count().sort_values(ascending = False).head(20)"
   ]
  },
  {
   "cell_type": "markdown",
   "metadata": {},
   "source": [
    "<font color=blue> El rubro de las telecomunicaciones y servicios financieros son los más denunciados."
   ]
  },
  {
   "cell_type": "markdown",
   "metadata": {},
   "source": [
    "### <font color=green> Esto confirma la hipótesis de Mario Vadillo que afirma que el rubro más denunciado es el de la telefonía"
   ]
  },
  {
   "cell_type": "markdown",
   "metadata": {},
   "source": [
    "##### <font color=green> Conozcamos los subgrupos de denuncias"
   ]
  },
  {
   "cell_type": "code",
   "execution_count": 27,
   "metadata": {},
   "outputs": [
    {
     "data": {
      "text/plain": [
       "subrubro\n",
       "Tarjetas de crédito                                                       15907\n",
       "Televisión por cable/satelital                                            13675\n",
       "Automóviles                                                               13284\n",
       "Internet                                                                   8837\n",
       "Transporte aéreo de pasajeros                                              8034\n",
       "Telefonía celular                                                          7647\n",
       "Telefonía fija                                                             6947\n",
       "Paquetes de productos (Tv Satelital + Internet + Telefonía fija, etc.)     6914\n",
       "Luz                                                                        6021\n",
       "Teléfonos celulares                                                        5451\n",
       "Espectáculos (deportivos, recitales, teatro, etc.)                         5230\n",
       "Calzado                                                                    3830\n",
       "TV Led y artículos de video                                                3663\n",
       "Seguros                                                                    3598\n",
       "Cajas de ahorro                                                            3473\n",
       "Indumentaria                                                               3430\n",
       "Paquetes de productos                                                      3275\n",
       "Medicina Prepaga                                                           2902\n",
       "Administración de pagos (Pago Facil, Rapipago etc.)                        2871\n",
       "Préstamos personales                                                       2501\n",
       "Name: id_reclamo, dtype: int64"
      ]
     },
     "execution_count": 27,
     "metadata": {},
     "output_type": "execute_result"
    }
   ],
   "source": [
    "reclamos.groupby('subrubro')['id_reclamo'].count().sort_values(ascending = False).head(20)"
   ]
  },
  {
   "cell_type": "markdown",
   "metadata": {},
   "source": [
    "#### Las tarjetas de crédito llevan la delantera y lo siguen muy de cerca los servicios de televisión por cable y automóviles. Internet y transporte aéreo de pasajeros se ubican también entre los primeros lugares"
   ]
  },
  {
   "cell_type": "code",
   "execution_count": 28,
   "metadata": {},
   "outputs": [
    {
     "data": {
      "text/plain": [
       "subrubro\n",
       "Articulos de decoracion para fiestas (globos, guirnaldas, etc)    1\n",
       "Encendedores y Fosforos                                           1\n",
       "Colchones eléctricos                                              1\n",
       "Handies                                                           1\n",
       "Duplicación de llaves                                             1\n",
       "Name: id_reclamo, dtype: int64"
      ]
     },
     "execution_count": 28,
     "metadata": {},
     "output_type": "execute_result"
    }
   ],
   "source": [
    "reclamos.groupby('subrubro')['id_reclamo'].count().sort_values(ascending = False).tail(5)"
   ]
  },
  {
   "cell_type": "markdown",
   "metadata": {},
   "source": [
    "#### Los menos denunciados son artículos de decoración para fiestas, encendedores, colchones eléctricos, handies y duplicación de llaves"
   ]
  },
  {
   "cell_type": "markdown",
   "metadata": {},
   "source": [
    "#### Edades de los denunciantes "
   ]
  },
  {
   "cell_type": "code",
   "execution_count": 30,
   "metadata": {},
   "outputs": [
    {
     "data": {
      "text/plain": [
       "edad_reclamante\n",
       "33.0    1966\n",
       "32.0    1961\n",
       "31.0    1957\n",
       "34.0    1953\n",
       "30.0    1916\n",
       "37.0    1886\n",
       "29.0    1819\n",
       "35.0    1816\n",
       "28.0    1725\n",
       "36.0    1665\n",
       "Name: id_reclamo, dtype: int64"
      ]
     },
     "execution_count": 30,
     "metadata": {},
     "output_type": "execute_result"
    }
   ],
   "source": [
    "reclamos.groupby('edad_reclamante')['id_reclamo'].count().sort_values(ascending = False).head(10)"
   ]
  },
  {
   "cell_type": "code",
   "execution_count": 39,
   "metadata": {},
   "outputs": [
    {
     "data": {
      "image/png": "[encoded data removed]",
      "text/plain": [
       "<Figure size 432x288 with 1 Axes>"
      ]
     },
     "metadata": {
      "needs_background": "light"
     },
     "output_type": "display_data"
    }
   ],
   "source": [
    "sns.boxplot(reclamos['edad_reclamante'], color = \"red\")\n",
    "plt.xlabel(\"Edad\")\n",
    "plt.title(\"Distribución de la edad de los reclamantes\")\n",
    "plt.show()"
   ]
  },
  {
   "cell_type": "markdown",
   "metadata": {},
   "source": [
    "1. La gran mayoría de los denunciantes se ubica entre los 27 a 45 años \n",
    "2. Tenemos presentes unos outliers que superan los 85 años de edad, el promedio de vida. "
   ]
  },
  {
   "cell_type": "code",
   "execution_count": 40,
   "metadata": {},
   "outputs": [
    {
     "name": "stdout",
     "output_type": "stream",
     "text": [
      "La media en cuanto a las edades es de: 39.635740446951445\n",
      "La desviación standart en cuanto a las edades es de: 12.50653001446049\n"
     ]
    }
   ],
   "source": [
    "#Estadistica descriptiva \n",
    "\n",
    "print(\"La media en cuanto a las edades es de:\", np.mean(reclamos['edad_reclamante']))\n",
    "print(\"La desviación standart en cuanto a las edades es de:\", np.std(reclamos['edad_reclamante']))"
   ]
  },
  {
   "cell_type": "code",
   "execution_count": 43,
   "metadata": {},
   "outputs": [
    {
     "data": {
      "text/plain": [
       "(62, 18)"
      ]
     },
     "execution_count": 43,
     "metadata": {},
     "output_type": "execute_result"
    }
   ],
   "source": [
    "#Outliers \n",
    "#Vamos a observar las personas que han realizado denuncias a partir de los 85 años \n",
    "\n",
    "\n",
    "reclamos_85 = reclamos[reclamos['edad_reclamante'] > 85]\n",
    "reclamos_85.shape"
   ]
  },
  {
   "cell_type": "markdown",
   "metadata": {},
   "source": [
    "Tenemos 62 reclamos realizados por personas mayores a 85 años"
   ]
  },
  {
   "cell_type": "markdown",
   "metadata": {},
   "source": [
    "### <font color=green>Se confirma la hipótesis de Mario Vadillo: las denuncias se realizan entre los 25 a 45 años, siendo 33 años la edad en la que las personas realizan la mayor cantidad de denuncias"
   ]
  },
  {
   "cell_type": "markdown",
   "metadata": {},
   "source": [
    "#### Analizamos la cantidad de denuncias online y presenciales "
   ]
  },
  {
   "cell_type": "code",
   "execution_count": 46,
   "metadata": {},
   "outputs": [
    {
     "data": {
      "text/plain": [
       "modalidad\n",
       "A distancia       126799\n",
       "Presencial         55142\n",
       "Sin clasificar       735\n",
       "Name: id_reclamo, dtype: int64"
      ]
     },
     "execution_count": 46,
     "metadata": {},
     "output_type": "execute_result"
    }
   ],
   "source": [
    "reclamos.groupby('modalidad')['id_reclamo'].count().sort_values(ascending = False)"
   ]
  },
  {
   "cell_type": "markdown",
   "metadata": {},
   "source": [
    "Los reclamos online y realizados a distancia son los más frecuentes"
   ]
  },
  {
   "cell_type": "markdown",
   "metadata": {},
   "source": [
    "#### Empresas más denunciadas en Defensa del Consumidor"
   ]
  },
  {
   "cell_type": "code",
   "execution_count": 47,
   "metadata": {},
   "outputs": [
    {
     "data": {
      "text/plain": [
       "razon_social\n",
       "Telecentro SA                      10964\n",
       "Telecom Argentina SA                4801\n",
       "Telefonica de Argentina SA          4620\n",
       "Banco Santander Rio SA              4147\n",
       "Telefonica moviles argentina SA     4025\n",
       "Mercadolibre SRL                    3734\n",
       "Telecom Personal SA                 3680\n",
       "Cablevision SA                      3677\n",
       "Fibertel                            3265\n",
       "Empresa Distribuidora Sur SA        3178\n",
       "Directv Argentina SA                2970\n",
       "Falabella SA                        2870\n",
       "Dg Medios y Espectaculos SA         2630\n",
       "Fravega SACIEI                      2485\n",
       "Latam Airlines Group SA             2473\n",
       "Name: id_reclamo, dtype: int64"
      ]
     },
     "execution_count": 47,
     "metadata": {},
     "output_type": "execute_result"
    }
   ],
   "source": [
    "reclamos.groupby('razon_social')['id_reclamo'].count().sort_values(ascending = False).head(15)"
   ]
  },
  {
   "cell_type": "markdown",
   "metadata": {},
   "source": [
    "#### Telecentro encabeza la lista, seguido de Telecom y Telefónica de Argentina. \n",
    "#### Banco Santander Río, Mercado Libre y Cablevisión le siguen."
   ]
  },
  {
   "cell_type": "markdown",
   "metadata": {},
   "source": [
    "### Denuncias por fecha"
   ]
  },
  {
   "cell_type": "code",
   "execution_count": 68,
   "metadata": {},
   "outputs": [
    {
     "data": {
      "text/plain": [
       "<Figure size 1224x1224 with 0 Axes>"
      ]
     },
     "execution_count": 68,
     "metadata": {},
     "output_type": "execute_result"
    },
    {
     "data": {
      "image/png": "[encoded data removed]",
      "text/plain": [
       "<Figure size 432x288 with 1 Axes>"
      ]
     },
     "metadata": {
      "needs_background": "light"
     },
     "output_type": "display_data"
    },
    {
     "data": {
      "text/plain": [
       "<Figure size 1224x1224 with 0 Axes>"
      ]
     },
     "metadata": {},
     "output_type": "display_data"
    }
   ],
   "source": [
    "count_fechas = reclamos['fecha'].value_counts()\n",
    "\n",
    "count_fechas.plot(color = \"red\")\n",
    "plt.xlabel(\"Fechas\")\n",
    "plt.ylabel(\"Cantidad de denuncias\")\n",
    "plt.title(\"Cantidad de denuncias por fecha\")\n",
    "plt.figure(figsize=(17,17))\n"
   ]
  },
  {
   "cell_type": "markdown",
   "metadata": {},
   "source": [
    "#### La realización de denuncias han disminuído en comparación a 2018"
   ]
  }
 ],
 "metadata": {
  "kernelspec": {
   "display_name": "Python 3",
   "language": "python",
   "name": "python3"
  },
  "language_info": {
   "codemirror_mode": {
    "name": "ipython",
    "version": 3
   },
   "file_extension": ".py",
   "mimetype": "text/x-python",
   "name": "python",
   "nbconvert_exporter": "python",
   "pygments_lexer": "ipython3",
   "version": "3.6.8"
  }
 },
 "nbformat": 4,
 "nbformat_minor": 2
}
